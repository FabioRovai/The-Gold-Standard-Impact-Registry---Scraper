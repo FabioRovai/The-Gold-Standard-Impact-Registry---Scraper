{
  "nbformat": 4,
  "nbformat_minor": 0,
  "metadata": {
    "colab": {
      "name": "trove.ipynb",
      "provenance": [],
      "collapsed_sections": [],
      "authorship_tag": "ABX9TyMmjCCSUfhAVBzkDdSVRFWq",
      "include_colab_link": true
    },
    "kernelspec": {
      "name": "python3",
      "display_name": "Python 3"
    },
    "language_info": {
      "name": "python"
    }
  },
  "cells": [
    {
      "cell_type": "markdown",
      "metadata": {
        "id": "view-in-github",
        "colab_type": "text"
      },
      "source": [
        "<a href=\"https://colab.research.google.com/github/FabioRovai/trove-test/blob/main/trove.ipynb\" target=\"_parent\"><img src=\"https://colab.research.google.com/assets/colab-badge.svg\" alt=\"Open In Colab\"/></a>"
      ]
    },
    {
      "cell_type": "markdown",
      "metadata": {
        "id": "v04nMCi5LPqa"
      },
      "source": [
        "At the time of writing there are 90 pages of data, \n",
        "we would like you to retrieve the GSID, Project Name, and SDG Certifications \n",
        "(SDG numbers only, not the corresponding SDG name) for all projects currently on the website."
      ]
    },
    {
      "cell_type": "code",
      "metadata": {
        "id": "b46N-uKABrBt"
      },
      "source": [
        "#Download selenium and chromium-chromedriver\n",
        "!pip install selenium\n",
        "#Update ubuntu to correctly run apt install\n",
        "!apt-get update \n",
        "!apt install chromium-chromedriver\n",
        "#Copy path\n",
        "!cp /usr/lib/chromium-browser/chromedriver /usr/bin\n"
      ],
      "execution_count": null,
      "outputs": []
    },
    {
      "cell_type": "markdown",
      "metadata": {
        "id": "XxCLYC8aubvF"
      },
      "source": [
        "Scraper takes about 8 minutes (pages loaded for less than 5 seconds tent to not load fully)"
      ]
    },
    {
      "cell_type": "code",
      "metadata": {
        "colab": {
          "base_uri": "https://localhost:8080/"
        },
        "id": "3OcTo895L40s",
        "outputId": "04dc0c21-4bfa-433c-932c-9fb4364db5de"
      },
      "source": [
        "from selenium.webdriver.common.by import By\n",
        "from selenium.webdriver.support.ui import WebDriverWait\n",
        "from selenium.webdriver.support import expected_conditions as EC\n",
        "from selenium import webdriver\n",
        "from selenium.webdriver.chrome.options import Options\n",
        "from selenium.webdriver.common.by import By\n",
        "from selenium.webdriver.support.ui import WebDriverWait\n",
        "from selenium.webdriver.support import expected_conditions as EC\n",
        "from selenium.common.exceptions import TimeoutException, WebDriverException\n",
        "import sys\n",
        "import time\n",
        "from bs4 import BeautifulSoup\n",
        "from selenium.webdriver.chrome.options import Options\n",
        "import re\n",
        "import pandas as pd\n",
        "#'''\n",
        "##Setting selenium\n",
        "\n",
        "#path driver (otherwise rise error in colab)\n",
        "sys.path.insert(0,'/usr/lib/chromium-browser/chromedriver')\n",
        "#choose chrome\n",
        "chrome_options = webdriver.ChromeOptions()\n",
        "#add args\n",
        "chrome_options.add_argument('--headless')\n",
        "chrome_options.add_argument('--no-sandbox')\n",
        "chrome_options.add_argument('--disable-dev-shm-usage')\n",
        "#set scroll\n",
        "javaScript = \"window.scrollBy(0,1000);\"\n",
        "#set headless\n",
        "options = Options()\n",
        "options.headless = True\n",
        "#Window sizing\n",
        "options.add_argument(\"--window-size=1920,1200\")\n",
        "#Activate JS !! - It will not work if this is not enabled\n",
        "options.add_argument(\"javascript.enabled\")\n",
        "#set webdriver\n",
        "driver = webdriver.Chrome('chromedriver',chrome_options=chrome_options)\n",
        "\n",
        "##SCRAPING\n",
        "\n",
        "#Set Counter to scroll each of the 90 pages \n",
        "counter=1\n",
        "while counter <= 90:\n",
        "  filename = 'https://registry.goldstandard.org/projects/?q=&page='\n",
        "  path = filename + str(counter) \n",
        "  driver.get(path)\n",
        "  driver.execute_script(javaScript)\n",
        "  driver.execute_script(\"window.scrollTo(0, document.body.scrollHeight);\")  \n",
        "  time.sleep(5) #add delay, quite slower but works (5 for debug)  \n",
        "  counter += 1\n",
        "  file = open(\"sample.txt\", \"a\")\n",
        "  str_dictionary = repr(driver.page_source)\n",
        "  file.write(\"new_page = \" + str_dictionary + \"\\n\")\n",
        "\n",
        " \n",
        "driver.quit()#'''"
      ],
      "execution_count": 2,
      "outputs": [
        {
          "output_type": "stream",
          "name": "stderr",
          "text": [
            "/usr/local/lib/python3.7/dist-packages/ipykernel_launcher.py:37: DeprecationWarning: use options instead of chrome_options\n"
          ]
        }
      ]
    },
    {
      "cell_type": "code",
      "metadata": {
        "id": "_UhJaovWdRcU"
      },
      "source": [
        "##GSID\n",
        "\n",
        "#read file back\n",
        "text_file = open(\"/content/sample.txt\", \"r\") \n",
        "lines = text_file.readlines()\n",
        "#split by space\n",
        "words = str(lines).split()\n",
        "#Tokenizer set\n",
        "start = 'colspan=\"1\">GS'\n",
        "#make filter\n",
        "filter_object = filter(lambda a: start in a, words)\n",
        "filter_object = list(filter_object)\n",
        "#apply strip to list\n",
        "baz=[i.strip('class=\"jss451\">') for i in filter_object]\n",
        "foo=[i.strip('colspan=\"1\">') for i in baz]\n",
        "bar=[i.strip('</td><td') for i in foo]\n",
        "GS_ID=pd.DataFrame(bar)\n",
        "GS_ID.to_csv('GSID.csv')\n",
        "\n"
      ],
      "execution_count": 3,
      "outputs": []
    },
    {
      "cell_type": "code",
      "metadata": {
        "id": "wyh8iR09xIia"
      },
      "source": [
        "##Project Name\n",
        "\n",
        "text_file = open(\"/content/sample.txt\", \"r\")\n",
        "lines = text_file.readlines()\n",
        "#split by word 'class'\n",
        "start2='class' \n",
        "words2 = str(lines).split(start2)\n",
        "#match \"jss451\"> identifier\n",
        "matches = [match for match in words2 if '\"jss451\">' in match] \n",
        "#strip lists\n",
        "names=[i.strip('=\"jss451\">') for i in matches]\n",
        "names_clean=[i.strip(' </div><div') for i in names]\n",
        "names_clean\n",
        "ProjectName=pd.DataFrame(names_clean)\n",
        "ProjectName.to_csv('ProjectName.csv')"
      ],
      "execution_count": 4,
      "outputs": []
    },
    {
      "cell_type": "code",
      "metadata": {
        "colab": {
          "base_uri": "https://localhost:8080/"
        },
        "id": "ZrM0sMTX9mim",
        "outputId": "0d58e367-641c-498a-deeb-093d62986ec0"
      },
      "source": [
        "##SDG Certifications\n",
        "\n",
        "text_file = open(\"/content/sample.txt\", \"r\")\n",
        "lines = text_file.readlines()\n",
        "#find word class=\"jss450\"\n",
        "lines= str(lines)[str(lines).find('class=\"jss450\"'):]\n",
        "#split by word class=\"jss450\"\n",
        "words3 = str(lines).split('class=\"jss450\"')\n",
        "#match word img\n",
        "matches2 = [match for match in words3 if 'img' in match]\n",
        "#create list of lists\n",
        "qux=[i.split('jss456\"><img') for i in matches2]\n",
        "#set counter\n",
        "digit=0\n",
        "while digit <= len(qux)-1:\n",
        "  quux=[i.split('-', 1)[0]for i in qux[digit]]\n",
        "  del quux[0]\n",
        "  quux=str(quux)\n",
        "  numeric_string = re.sub(\"[^0-9]\", \" \", quux)\n",
        "  numeric_string = re.sub(\" +\", \" \", numeric_string) \n",
        "  digit += 1\n",
        "  file = open(\"numbers.txt\", \"a\")\n",
        "  file.write(numeric_string + \"\\n\")\n",
        "\n",
        "#small debug for the last line of the DS\n",
        "quux=[i.split('-', 1)[0]for i in qux[90]]\n",
        "del quux[0]\n",
        "quux=str(quux)\n",
        "numeric_string = re.sub(\"[^0-9]\", \" \", quux)\n",
        "numeric_string = re.sub(\" +\", \" \", numeric_string) \n",
        "\n",
        "file = open(\"numbers.txt\", \"a\")\n",
        "file.write(numeric_string + \"\\n\")\n",
        "#len(numeric_string)"
      ],
      "execution_count": 5,
      "outputs": [
        {
          "output_type": "execute_result",
          "data": {
            "text/plain": [
              "11"
            ]
          },
          "metadata": {},
          "execution_count": 5
        }
      ]
    },
    {
      "cell_type": "code",
      "metadata": {
        "colab": {
          "base_uri": "https://localhost:8080/",
          "height": 202
        },
        "id": "UnY5ML0Jcf80",
        "outputId": "981ffca5-810c-44ce-8ca1-032d8bfb5f33"
      },
      "source": [
        "##Cleaning SDG Certifications\n",
        "\n",
        "text_file = open(\"/content/numbers.txt\", \"r\")\n",
        "SDG = text_file.readlines()\n",
        "SDG=pd.DataFrame(SDG)\n",
        "SDG.to_csv('numbers.csv')\n",
        "SDG=pd.read_csv('numbers.csv')\n",
        "#rename\n",
        "SDG.rename(columns={ SDG.columns[1]: \"SDG_Certifications\" }, inplace = True)\n",
        "\n",
        "SDG.head()"
      ],
      "execution_count": 6,
      "outputs": [
        {
          "output_type": "execute_result",
          "data": {
            "text/html": [
              "<div>\n",
              "<style scoped>\n",
              "    .dataframe tbody tr th:only-of-type {\n",
              "        vertical-align: middle;\n",
              "    }\n",
              "\n",
              "    .dataframe tbody tr th {\n",
              "        vertical-align: top;\n",
              "    }\n",
              "\n",
              "    .dataframe thead th {\n",
              "        text-align: right;\n",
              "    }\n",
              "</style>\n",
              "<table border=\"1\" class=\"dataframe\">\n",
              "  <thead>\n",
              "    <tr style=\"text-align: right;\">\n",
              "      <th></th>\n",
              "      <th>Unnamed: 0</th>\n",
              "      <th>SDG_Certifications</th>\n",
              "    </tr>\n",
              "  </thead>\n",
              "  <tbody>\n",
              "    <tr>\n",
              "      <th>0</th>\n",
              "      <td>0</td>\n",
              "      <td>8 12 13 \\n</td>\n",
              "    </tr>\n",
              "    <tr>\n",
              "      <th>1</th>\n",
              "      <td>1</td>\n",
              "      <td>3 5 6 13 \\n</td>\n",
              "    </tr>\n",
              "    <tr>\n",
              "      <th>2</th>\n",
              "      <td>2</td>\n",
              "      <td>3 5 6 13 \\n</td>\n",
              "    </tr>\n",
              "    <tr>\n",
              "      <th>3</th>\n",
              "      <td>3</td>\n",
              "      <td>3 5 6 13 \\n</td>\n",
              "    </tr>\n",
              "    <tr>\n",
              "      <th>4</th>\n",
              "      <td>4</td>\n",
              "      <td>7 8 9 10 11 12 13 \\n</td>\n",
              "    </tr>\n",
              "  </tbody>\n",
              "</table>\n",
              "</div>"
            ],
            "text/plain": [
              "   Unnamed: 0     SDG_Certifications\n",
              "0           0             8 12 13 \\n\n",
              "1           1            3 5 6 13 \\n\n",
              "2           2            3 5 6 13 \\n\n",
              "3           3            3 5 6 13 \\n\n",
              "4           4   7 8 9 10 11 12 13 \\n"
            ]
          },
          "metadata": {},
          "execution_count": 6
        }
      ]
    },
    {
      "cell_type": "code",
      "metadata": {
        "colab": {
          "base_uri": "https://localhost:8080/",
          "height": 414
        },
        "id": "99_uIZ6CO17T",
        "outputId": "d6d00b71-b9ec-4307-9725-cb25fe940dca"
      },
      "source": [
        "##create a csv\n",
        "GS_ID.rename(columns={ GS_ID.columns[0]: \"GSID\" }, inplace = True)\n",
        "ProjectName.rename(columns={ ProjectName.columns[0]: \"Project_Name\" }, inplace = True)\n",
        "result = pd.concat([GS_ID, ProjectName,SDG], axis=1)\n",
        "result=result.drop(['Unnamed: 0'], axis=1)\n",
        "result['SDG_Certifications'] = result['SDG_Certifications'].str.strip('\\n')\n",
        "result"
      ],
      "execution_count": 7,
      "outputs": [
        {
          "output_type": "execute_result",
          "data": {
            "text/html": [
              "<div>\n",
              "<style scoped>\n",
              "    .dataframe tbody tr th:only-of-type {\n",
              "        vertical-align: middle;\n",
              "    }\n",
              "\n",
              "    .dataframe tbody tr th {\n",
              "        vertical-align: top;\n",
              "    }\n",
              "\n",
              "    .dataframe thead th {\n",
              "        text-align: right;\n",
              "    }\n",
              "</style>\n",
              "<table border=\"1\" class=\"dataframe\">\n",
              "  <thead>\n",
              "    <tr style=\"text-align: right;\">\n",
              "      <th></th>\n",
              "      <th>GSID</th>\n",
              "      <th>Project_Name</th>\n",
              "      <th>SDG_Certifications</th>\n",
              "    </tr>\n",
              "  </thead>\n",
              "  <tbody>\n",
              "    <tr>\n",
              "      <th>0</th>\n",
              "      <td>GS11255</td>\n",
              "      <td>Muyuan Nanyang Swine Farm Animal Waste Managem...</td>\n",
              "      <td>8 12 13</td>\n",
              "    </tr>\n",
              "    <tr>\n",
              "      <th>1</th>\n",
              "      <td>GS11250</td>\n",
              "      <td>GS1247 VPA 315 GivePower Haiti Solar Water Farms</td>\n",
              "      <td>3 5 6 13</td>\n",
              "    </tr>\n",
              "    <tr>\n",
              "      <th>2</th>\n",
              "      <td>GS11249</td>\n",
              "      <td>GS1247 VPA 313 GivePower Haiti Solar Water Farms</td>\n",
              "      <td>3 5 6 13</td>\n",
              "    </tr>\n",
              "    <tr>\n",
              "      <th>3</th>\n",
              "      <td>GS11248</td>\n",
              "      <td>GS1247 VPA 314 GivePower Haiti Solar Water Farms</td>\n",
              "      <td>3 5 6 13</td>\n",
              "    </tr>\n",
              "    <tr>\n",
              "      <th>4</th>\n",
              "      <td>GS11239</td>\n",
              "      <td>Shangrao Swine Farm Animal Manure Management S...</td>\n",
              "      <td>7 8 9 10 11 12 13</td>\n",
              "    </tr>\n",
              "    <tr>\n",
              "      <th>...</th>\n",
              "      <td>...</td>\n",
              "      <td>...</td>\n",
              "      <td>...</td>\n",
              "    </tr>\n",
              "    <tr>\n",
              "      <th>2230</th>\n",
              "      <td>GS1006</td>\n",
              "      <td>Highveld Air Quality - Highveld Central Project</td>\n",
              "      <td>7 8 13</td>\n",
              "    </tr>\n",
              "    <tr>\n",
              "      <th>2231</th>\n",
              "      <td>GS1005</td>\n",
              "      <td>GS1005 Qori Q\\\\\\'oncha - Improved cookstoves d...</td>\n",
              "      <td>3 13 15</td>\n",
              "    </tr>\n",
              "    <tr>\n",
              "      <th>2232</th>\n",
              "      <td>GS1003</td>\n",
              "      <td>Degirmen Weir and Hydroelectric Power Plant</td>\n",
              "      <td>7 9 13</td>\n",
              "    </tr>\n",
              "    <tr>\n",
              "      <th>2233</th>\n",
              "      <td>GS1001</td>\n",
              "      <td>InfraVest Taiwan Wind Farms Bundled Project 20...</td>\n",
              "      <td>7 8 13</td>\n",
              "    </tr>\n",
              "    <tr>\n",
              "      <th>2234</th>\n",
              "      <td>GS1000</td>\n",
              "      <td>GS936 CookClean Ghana Limited - CPA01</td>\n",
              "      <td>3 13 15</td>\n",
              "    </tr>\n",
              "  </tbody>\n",
              "</table>\n",
              "<p>2235 rows × 3 columns</p>\n",
              "</div>"
            ],
            "text/plain": [
              "         GSID  ...   SDG_Certifications\n",
              "0     GS11255  ...             8 12 13 \n",
              "1     GS11250  ...            3 5 6 13 \n",
              "2     GS11249  ...            3 5 6 13 \n",
              "3     GS11248  ...            3 5 6 13 \n",
              "4     GS11239  ...   7 8 9 10 11 12 13 \n",
              "...       ...  ...                  ...\n",
              "2230   GS1006  ...              7 8 13 \n",
              "2231   GS1005  ...             3 13 15 \n",
              "2232   GS1003  ...              7 9 13 \n",
              "2233   GS1001  ...              7 8 13 \n",
              "2234   GS1000  ...             3 13 15 \n",
              "\n",
              "[2235 rows x 3 columns]"
            ]
          },
          "metadata": {},
          "execution_count": 7
        }
      ]
    },
    {
      "cell_type": "code",
      "metadata": {
        "id": "RQwBGUCNnz5E"
      },
      "source": [
        "##Dump csv\n",
        "result.to_csv('result.csv')"
      ],
      "execution_count": 8,
      "outputs": []
    }
  ]
}
